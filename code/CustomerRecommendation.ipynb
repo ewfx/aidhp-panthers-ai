{
 "cells": [
  {
   "cell_type": "markdown",
   "metadata": {},
   "source": [
    "#### Importing required libraries"
   ]
  },
  {
   "cell_type": "code",
   "execution_count": 7,
   "metadata": {},
   "outputs": [],
   "source": [
    "import numpy as  np \n",
    "import pandas as pd\n",
    "from faker import Faker"
   ]
  },
  {
   "cell_type": "markdown",
   "metadata": {},
   "source": [
    "#### Using faker to generate the sample data for Customer"
   ]
  },
  {
   "cell_type": "code",
   "execution_count": 5,
   "metadata": {},
   "outputs": [],
   "source": [
    "# Initialize Faker\n",
    "fake = Faker()\n",
    "\n",
    "# Set seed for reproducibility\n",
    "np.random.seed(42)\n",
    "Faker.seed(42)"
   ]
  },
  {
   "cell_type": "markdown",
   "metadata": {},
   "source": [
    "#### Generating Sample data with 500 rows"
   ]
  },
  {
   "cell_type": "code",
   "execution_count": 6,
   "metadata": {},
   "outputs": [],
   "source": [
    "# Generate 500 rows of data\n",
    "num_rows = 500"
   ]
  },
  {
   "cell_type": "markdown",
   "metadata": {},
   "source": [
    "#### Customer Demographics"
   ]
  },
  {
   "cell_type": "code",
   "execution_count": 8,
   "metadata": {},
   "outputs": [],
   "source": [
    "# Sheet 1: Customer Demographics\n",
    "customer_data = []\n",
    "for i in range(1, num_rows + 1):\n",
    "    customer_data.append({\n",
    "        'customer_id': i,\n",
    "        'name': fake.name(),\n",
    "        'age': np.random.randint(18, 65),\n",
    "        'gender': np.random.choice(['Male', 'Female', 'Non-Binary']),\n",
    "        'email': fake.email(),\n",
    "        'city': fake.city(),\n",
    "        'education': np.random.choice(['High School', 'Bachelor\\'s Degree', 'Master\\'s Degree', 'PhD']),\n",
    "        'occupation': fake.job(),\n",
    "        'income_level': np.random.choice(['Low', 'Medium', 'High']),\n",
    "        'address': fake.address()\n",
    "    })\n",
    "\n",
    "df_customer = pd.DataFrame(customer_data)"
   ]
  },
  {
   "cell_type": "code",
   "execution_count": 9,
   "metadata": {},
   "outputs": [
    {
     "name": "stdout",
     "output_type": "stream",
     "text": []
    }
   ],
   "source": [
    "df_customer"
   ]
  },
  {
   "cell_type": "markdown",
   "metadata": {},
   "source": [
    "#### Customer Transactions"
   ]
  },
  {
   "cell_type": "code",
   "execution_count": 10,
   "metadata": {},
   "outputs": [],
   "source": [
    "# Sheet 2: Transaction History\n",
    "transaction_data = []\n",
    "for i in range(1, num_rows + 1):\n",
    "    for _ in range(np.random.randint(1, 10)):  # Each customer has 1-10 transactions\n",
    "        transaction_data.append({\n",
    "            'transaction_id': fake.unique.random_number(digits=5),\n",
    "            'customer_id': i,\n",
    "            'transaction_type': np.random.choice(['Online', 'In-store']),\n",
    "            'category': np.random.choice(['Electronics', 'Fitness', 'Books', 'Fashion', 'Groceries']),\n",
    "            'amount': np.random.randint(10, 1000),\n",
    "            'purchase_mode': np.random.choice(['Credit Card', 'Debit Card', 'PayPal', 'Cash']),\n",
    "            'purchase_date': fake.date_between(start_date='-1y', end_date='today')\n",
    "        })\n",
    "\n",
    "df_transaction = pd.DataFrame(transaction_data)"
   ]
  },
  {
   "cell_type": "code",
   "execution_count": 11,
   "metadata": {},
   "outputs": [
    {
     "name": "stdout",
     "output_type": "stream",
     "text": []
    }
   ],
   "source": [
    "df_transaction"
   ]
  },
  {
   "cell_type": "markdown",
   "metadata": {},
   "source": [
    "#### Customer  Social Media Sentiments and Intent"
   ]
  },
  {
   "cell_type": "code",
   "execution_count": null,
   "metadata": {},
   "outputs": [],
   "source": [
    "# Sheet 3: Social Media Sentiments and Intent\n",
    "social_media_data = []\n",
    "for i in range(1, num_rows + 1):\n",
    "    social_media_data.append({\n",
    "        'customer_id': i,\n",
    "        'platform': np.random.choice(['Twitter', 'Facebook', 'Instagram', 'LinkedIn']),\n",
    "        'post_text': fake.sentence(),\n",
    "        #'timestamp': fake.datetime_between(start_date='-1y', end_date='today'),\n",
    "        'sentiment_score': round(np.random.uniform(0, 1), 2),\n",
    "        'intent': np.random.choice(['Purchase Intent', 'Engagement', 'Brand Awareness'])\n",
    "    })\n",
    "\n",
    "df_social_media = pd.DataFrame(social_media_data)"
   ]
  },
  {
   "cell_type": "code",
   "execution_count": 13,
   "metadata": {},
   "outputs": [
    {
     "name": "stdout",
     "output_type": "stream",
     "text": []
    }
   ],
   "source": [
    "df_social_media"
   ]
  },
  {
   "cell_type": "code",
   "execution_count": null,
   "metadata": {},
   "outputs": [],
   "source": [
    "\n",
    "\n",
    "\n",
    "\n",
    "\n",
    "\n",
    "\n",
    "\n",
    "\n",
    "\n",
    "\n",
    "# Sheet 4: Organizational Info\n",
    "org_data = []\n",
    "for i in range(1, num_rows + 1):\n",
    "    org_data.append({\n",
    "        'customer_id': i,\n",
    "        'organization_name': fake.company(),\n",
    "        'industry': np.random.choice(['Technology', 'Healthcare', 'Education', 'Retail', 'Energy']),\n",
    "        'revenue': np.random.randint(100000, 10000000),\n",
    "        'no_of_employees': np.random.randint(10, 1000),\n",
    "        'customer_role': fake.job()\n",
    "    })\n",
    "\n",
    "df_org = pd.DataFrame(org_data)\n",
    "\n",
    "# Sheet 5: Customer Preferences\n",
    "preference_data = []\n",
    "for i in range(1, num_rows + 1):\n",
    "    preference_data.append({\n",
    "        'customer_id': i,\n",
    "        'preference_category': np.random.choice(['Electronics', 'Books', 'Fitness', 'Fashion', 'Groceries']),\n",
    "        'preferred_brands': ', '.join(fake.words(nb=3)),\n",
    "        'preferred_price_range': f\"{np.random.randint(10, 500)}-{np.random.randint(500, 1000)}\"\n",
    "    })\n",
    "\n",
    "df_preference = pd.DataFrame(preference_data)\n",
    "\n",
    "# Save to CSV\n",
    "df_customer.to_csv('SourceData/customer_demographics.csv', index=False)\n",
    "df_transaction.to_csv('SourceData/transaction_history.csv', index=False)\n",
    "df_social_media.to_csv('SourceData/social_media_sentiments.csv', index=False)\n",
    "df_org.to_csv('SourceData/organizational_info.csv', index=False)\n",
    "df_preference.to_csv('SourceData/customer_preferences.csv', index=False)"
   ]
  }
 ],
 "metadata": {
  "kernelspec": {
   "display_name": "venv",
   "language": "python",
   "name": "python3"
  },
  "language_info": {
   "codemirror_mode": {
    "name": "ipython",
    "version": 3
   },
   "file_extension": ".py",
   "mimetype": "text/x-python",
   "name": "python",
   "nbconvert_exporter": "python",
   "pygments_lexer": "ipython3",
   "version": "3.12.3"
  }
 },
 "nbformat": 4,
 "nbformat_minor": 2
}
